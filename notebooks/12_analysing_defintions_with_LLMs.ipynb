{
 "cells": [
  {
   "cell_type": "code",
   "execution_count": 90,
   "metadata": {},
   "outputs": [],
   "source": [
    "import credentials\n",
    "from openai import OpenAI\n",
    "import os \n",
    "import json\n"
   ]
  },
  {
   "cell_type": "code",
   "execution_count": 95,
   "metadata": {},
   "outputs": [],
   "source": [
    "\n",
    "client = OpenAI(\n",
    "    # This is the default and can be omitted\n",
    "    api_key = credentials.keys[\"openai-key\"]\n",
    ")\n",
    "\n",
    "def getCategoriesFromAbstract(x, num):\n",
    "    try:\n",
    "        prompt = f\"\"\"Given the following definitions of 'Digital Twin' extracted from literature, Please extract the top {num} most comprehensive and truly reprensent what can be called a 'Digital twin' definition.\n",
    "        Don't add any un-necessary deatils such as introduciton, or title. just write the definitions as a parsable list. \n",
    "        List of Definitions:\n",
    "        {x}\"\"\"\n",
    "        chat_completion = client.chat.completions.create(\n",
    "            messages=[\n",
    "                {\n",
    "                    \"role\": \"user\",\n",
    "                    \"content\": prompt,\n",
    "                }\n",
    "            ],\n",
    "            model=\"gpt-4-0125-preview\",\n",
    "        )\n",
    "        try:\n",
    "            return json.loads(chat_completion.choices[0].message.content)\n",
    "        except:\n",
    "            return chat_completion.choices[0].message.content\n",
    "    except:\n",
    "        return {}"
   ]
  },
  {
   "cell_type": "code",
   "execution_count": null,
   "metadata": {},
   "outputs": [],
   "source": []
  },
  {
   "cell_type": "code",
   "execution_count": 96,
   "metadata": {},
   "outputs": [
    {
     "name": "stdout",
     "output_type": "stream",
     "text": [
      "0/10\r"
     ]
    }
   ],
   "source": [
    "with open(\"../clustered_definitions_not_reviewed.txt\", \"r\") as f:\n",
    "    d =f.read().split(\"\"\" ---------------- \n",
    "CLUSTER # \"\"\")[1:]\n",
    "\n",
    "results = {}\n",
    "for i in range(10):\n",
    "    print(f\"{i}/{10}\", end=\"\\r\")\n",
    "    cluser_text_list = d[i*10 : i*10 + 10 ]\n",
    "    cluster_name = \"\".join(cluser_text_list)[:2]\n",
    "    num_tokens = len(\" \".join(cluser_text_list).split(\" \"))\n",
    "    x = \"\".join([i[1:] for i in cluser_text_list])\n",
    "    results[\"clsuter\"+str(i)] = getCategoriesFromAbstract(x, 5)\n",
    "    break\n",
    "\n"
   ]
  },
  {
   "cell_type": "code",
   "execution_count": 97,
   "metadata": {},
   "outputs": [
    {
     "data": {
      "text/plain": [
       "{'clsuter0': '1. Digital Twin is defined as a software representation of a physical asset, system or process designed to detect, prevent, predict and optimize through real-time analytics to deliver business value.\\n2. Digital twin is described as a virtual replica of an asset or system that is updated from real-time condition monitoring data and employs simulation, machine learning, and reasoning to ensure informed decision-making.\\n3. Digital twin is a virtual representation of a physical asset to perform real-time modeling, simulations, and predictions for improved decision-making processes throughout its life cycle.\\n4. Digital twin is a dynamic digital representation of an industrial asset that enables companies to better understand and predict the performance of their machines and find new revenue streams.\\n5. Digital twin is a living model of the physical asset or system, which continually adapts to operational changes based on the collected online data and information and can forecast the future of the corresponding physical counterpart.'}"
      ]
     },
     "execution_count": 97,
     "metadata": {},
     "output_type": "execute_result"
    }
   ],
   "source": []
  },
  {
   "cell_type": "code",
   "execution_count": 98,
   "metadata": {},
   "outputs": [
    {
     "name": "stdout",
     "output_type": "stream",
     "text": [
      "clsuter0\n"
     ]
    }
   ],
   "source": [
    "second_round_of_definitions = \"\"\n",
    "for k , v in results.items():\n",
    "    print(k)\n",
    "    for i in v.split(\"\\n\"):\n",
    "        second_round_of_definitions+=i\n",
    "results_ = {k : v.replace(\"\\n\\n\", \"\\n\").split(\"\\n\") for k, v in results.items()}\n",
    "\n",
    "\n",
    "filtered_definitions = json.dumps(results_)\n",
    "with open(\"gpt4_filtered_definitions_x_per_cluster.json\", 'w') as f:\n",
    "    f.write(filtered_definitions)"
   ]
  },
  {
   "cell_type": "code",
   "execution_count": 84,
   "metadata": {},
   "outputs": [
    {
     "data": {
      "text/plain": [
       "'1. Digital twin is described as a virtual replica of an asset or system that is updated from real-time condition monitoring data and employs simulation, machine learning, and reasoning to ensure informed decision-making.\\n2. Digital twin is a virtual representation of a physical asset to perform real-time modeling, simulations, and predictions for improved decision-making processes throughout its life cycle.\\n3. Digital twin is an integrated multi-physics, multi-scale, probabilistic simulation of a vehicle or system that uses the best available physical models, sensor updates, fleet history, etc., to mirror the life of its flying twin, with main components being the following: Real-world product (physical system), Virtual representation (virtual system), Two-way and real-time data flow that connects physical and virtual systems.\\n4. A digital twin is a dynamic representation of a real-life object that mirrors its states and behaviours across its lifecycle so it can be used to monitor, analyze and simulate current and future states of, and interventions on, these objects, using data integration, artificial intelligence and machine learning.\\n5. Digital twin is a technology representing real-world elements, environments, systems, state changes, and so forth in virtual data models.\\n6. Digital twin is a high-precision simulation model that corresponds to the physical entity and should have the ability to interact with the physical entity in both directions, and based on the output data of the physical entity.\\n7. Digital twin is a virtual representation of a physical system (and its associated environment and processes) that is updated through the exchange of information between the physical and virtual systems.\\n8. Digital twin is a digital avatar encompassing CPS data and intelligence; it represents structure, semantics and behavior of the associated CPS, providing services to mesh the virtual and physical worlds.\\n9. Digital twin is a virtual model and detailed representation of a system that analyzes and improves performance, procedures, and value-added processes.\\n10. Digital twin is a comprehensive digital representation of an individual product and includes the properties, condition, and behavior of the real-life object through models and data, emulating the actual behavior.'"
      ]
     },
     "execution_count": 84,
     "metadata": {},
     "output_type": "execute_result"
    }
   ],
   "source": [
    "most_cmoprehensive_def = getCategoriesFromAbstract(second_round_of_definitions, 10)\n",
    "most_cmoprehensive_def"
   ]
  },
  {
   "cell_type": "code",
   "execution_count": 85,
   "metadata": {},
   "outputs": [
    {
     "name": "stdout",
     "output_type": "stream",
     "text": [
      "1. Digital twin is described as a virtual replica of an asset or system that is updated from real-time condition monitoring data and employs simulation, machine learning, and reasoning to ensure informed decision-making.\n",
      "2. Digital twin is a virtual representation of a physical asset to perform real-time modeling, simulations, and predictions for improved decision-making processes throughout its life cycle.\n",
      "3. Digital twin is an integrated multi-physics, multi-scale, probabilistic simulation of a vehicle or system that uses the best available physical models, sensor updates, fleet history, etc., to mirror the life of its flying twin, with main components being the following: Real-world product (physical system), Virtual representation (virtual system), Two-way and real-time data flow that connects physical and virtual systems.\n",
      "4. A digital twin is a dynamic representation of a real-life object that mirrors its states and behaviours across its lifecycle so it can be used to monitor, analyze and simulate current and future states of, and interventions on, these objects, using data integration, artificial intelligence and machine learning.\n",
      "5. Digital twin is a technology representing real-world elements, environments, systems, state changes, and so forth in virtual data models.\n",
      "6. Digital twin is a high-precision simulation model that corresponds to the physical entity and should have the ability to interact with the physical entity in both directions, and based on the output data of the physical entity.\n",
      "7. Digital twin is a virtual representation of a physical system (and its associated environment and processes) that is updated through the exchange of information between the physical and virtual systems.\n",
      "8. Digital twin is a digital avatar encompassing CPS data and intelligence; it represents structure, semantics and behavior of the associated CPS, providing services to mesh the virtual and physical worlds.\n",
      "9. Digital twin is a virtual model and detailed representation of a system that analyzes and improves performance, procedures, and value-added processes.\n",
      "10. Digital twin is a comprehensive digital representation of an individual product and includes the properties, condition, and behavior of the real-life object through models and data, emulating the actual behavior.\n"
     ]
    }
   ],
   "source": [
    "for i in most_cmoprehensive_def.split(\"\\n\\n\"):\n",
    "    print(i)"
   ]
  },
  {
   "cell_type": "code",
   "execution_count": null,
   "metadata": {},
   "outputs": [],
   "source": []
  },
  {
   "cell_type": "code",
   "execution_count": null,
   "metadata": {},
   "outputs": [],
   "source": []
  },
  {
   "cell_type": "code",
   "execution_count": null,
   "metadata": {},
   "outputs": [],
   "source": []
  },
  {
   "cell_type": "code",
   "execution_count": null,
   "metadata": {},
   "outputs": [],
   "source": []
  }
 ],
 "metadata": {
  "kernelspec": {
   "display_name": ".venv",
   "language": "python",
   "name": "python3"
  },
  "language_info": {
   "codemirror_mode": {
    "name": "ipython",
    "version": 3
   },
   "file_extension": ".py",
   "mimetype": "text/x-python",
   "name": "python",
   "nbconvert_exporter": "python",
   "pygments_lexer": "ipython3",
   "version": "3.11.6"
  }
 },
 "nbformat": 4,
 "nbformat_minor": 2
}
