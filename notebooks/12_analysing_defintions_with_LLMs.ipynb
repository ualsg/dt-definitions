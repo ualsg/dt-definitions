{
 "cells": [
  {
   "cell_type": "code",
   "execution_count": 90,
   "metadata": {},
   "outputs": [],
   "source": [
    "import credentials\n",
    "from openai import OpenAI\n",
    "import os \n",
    "import json\n"
   ]
  },
  {
   "cell_type": "code",
   "execution_count": 108,
   "metadata": {},
   "outputs": [],
   "source": [
    "\n",
    "client = OpenAI(\n",
    "    # This is the default and can be omitted\n",
    "    api_key = credentials.keys[\"openai-key\"]\n",
    ")\n",
    "\n",
    "def getCategoriesFromAbstract(x, num):\n",
    "    try:\n",
    "        prompt = f\"\"\"Given the following definitions of 'Digital Twin' extracted from literature, Please extract the top {num} most comprehensive and truly reprensent what can be called a 'Digital twin' definition (I mean, the definition that contains most of the Digital twin components).\n",
    "        Don't add any un-necessary deatils such as introduciton, or title. just write the definitions. \n",
    "        List of Definitions:\n",
    "        {x}\"\"\"\n",
    "        chat_completion = client.chat.completions.create(\n",
    "            messages=[\n",
    "                {\n",
    "                    \"role\": \"user\",\n",
    "                    \"content\": prompt,\n",
    "                }\n",
    "            ],\n",
    "            model=\"gpt-4-0125-preview\",\n",
    "        )\n",
    "        try:\n",
    "            return json.loads(chat_completion.choices[0].message.content)\n",
    "        except:\n",
    "            return chat_completion.choices[0].message.content\n",
    "    except:\n",
    "        return {}"
   ]
  },
  {
   "cell_type": "code",
   "execution_count": null,
   "metadata": {},
   "outputs": [],
   "source": []
  },
  {
   "cell_type": "code",
   "execution_count": 109,
   "metadata": {},
   "outputs": [
    {
     "name": "stdout",
     "output_type": "stream",
     "text": [
      "9/10\r"
     ]
    }
   ],
   "source": [
    "with open(\"../clustered_definitions_not_reviewed.txt\", \"r\") as f:\n",
    "    d =f.read().split(\"\"\" ---------------- \n",
    "CLUSTER # \"\"\")[1:]\n",
    "\n",
    "results = {}\n",
    "for i in range(10):\n",
    "    print(f\"{i}/{10}\", end=\"\\r\")\n",
    "    cluser_text_list = d[i*10 : i*10 + 10 ]\n",
    "    cluster_name = \"\".join(cluser_text_list)[:2]\n",
    "    num_tokens = len(\" \".join(cluser_text_list).split(\" \"))\n",
    "    x = \"\".join([i[1:] for i in cluser_text_list])\n",
    "    results[\"clsuter\"+str(i)] = getCategoriesFromAbstract(x, 5)\n"
   ]
  },
  {
   "cell_type": "code",
   "execution_count": 110,
   "metadata": {},
   "outputs": [
    {
     "data": {
      "text/plain": [
       "{'clsuter0': '1. Digital Twin is defined as a software representation of a physical asset, system or process designed to detect, prevent, predict and optimize through real-time analytics to deliver business value.\\n2. digital twin is described as a virtual replica of an asset or system that is updated from real-time condition monitoring data and employs simulation, machine learning, and reasoning to ensure informed decision-making.\\n3. digital twin is a virtual representation of a physical asset to perform real-time modeling, simulations, and predictions for improved decision-making processes throughout its life cycle.\\n4. Digital Twin is a “virtual representation of a physical asset enabled through data and simulators for real-time prediction, optimization, monitoring, controlling, and improved decision making.”\\n5. digital twin is a living model of the physical asset or system, which continually adapts to operational changes based on the collected online data and information and can forecast the future of the corresponding physical counterpart.',\n",
       " 'clsuter1': '1. digital twin is a dynamic representation of a physical system using interconnected data, models, and processes to enable access to knowledge of past, present, and future states to manage action on that system.\\n2. digital twin is a virtual representation of a physical object or system across its lifecycle, using real-time data to enable understanding, learning, and reasoning.\\n3. digital twin is a digital counterpart of the physical systems based on a simulation that deals with design systems and optimizes them for improved efficiency.\\n4. digital twin is a virtual model and detailed representation of a system that analyzes and improves performance, procedures, and value-added processes.\\n5. digital twin is a realization of the cyber-physical system for visualization, modeling, simulation, analyzing, predicting, and optimizing which incorporates three components: the physical entity, virtual entity, and the connection of data to form a practical loop.',\n",
       " 'clsuter2': '1. Digital Twin is a connected, virtual replica of an in-service physical asset — in the form of an integrated multidomain system simulation — which mirrors the life and experience of the asset.\\n\\n2. Digital twin is a virtual model of a physical entity, with dynamic, bidirectional links between the physical entity and its corresponding twin in the digital domain.\\n\\n3. Digital twin is a dynamic model, which is constantly updated and changed with the changes of physical entities, and represents the equipment status, working conditions, geometry, and resource status in the form of data synchronization.\\n\\n4. Digital twin is a multi-dimensional dynamic virtual model of the physical entity in a digital way to simulate and describe the attributes, behaviors, and rules of the actual physical entity in the real environment.\\n\\n5. Digital twin is a comprehensive digital equivalent of an object, which can reflect both semantic and geometric properties and behaviors using virtual models and data, while Cyber-Physical System (CPS) mainly focuses on the 3 C concepts including computing, communication, and control to achieve real-time sensing, automatic operation, and information integration for industry.',\n",
       " 'clsuter3': '1. Digital Twin is a virtual model of a physical system with a data-driven bidirectional communication framework connecting the virtual model to the physical system.\\n2. Digital Twin is defined as an unique instance of a universal Digital Master model of an asset and its individual Digital Shadow as the intelligent linkage between the other two.\\n3. Digital Twin is a digital model of real-world physical system.\\n4. Digital twin is a technology representing real-world elements, environments, systems, state changes, and so forth in virtual data models.\\n5. Digital Twin is a digital replica of a real-world ‘thing.’ While this looks close to simulation, Digital Twin is much more.',\n",
       " 'clsuter4': '1. Digital Twin is a dynamic representation of a real-life object that mirrors its states and behaviours across its lifecycle so it can be used to monitor, analyze and simulate current and future states of, and interventions on, these objects, using data integration, artificial intelligence and machine learning [19]\\n   \\n2. Digital Twin is defined as a virtual representation of a physical product, asset, process, or system in a CPS/CPPS, and across its lifecycle, capable of mirroring in real-time its static and dynamic characteristics as a result of a seamless data transmission between its digital replica and physical entity (Saddik, 2018; Ashtari et al., 2019)\\n\\n3. Digital twin is a digital representation (virtual twin) that dynamically communicates and evolves with its physical counterpart (physical twin) through a bi-directional interaction (Qi et al., 2019)\\n\\n4. Digital twin is defined as a “dynamic virtual representation of a physical object or system across its lifecycle, using real-time data to enable understanding, learning, and reasoning.” An example of this is the ReliaBlade project (Branner and Sayer, 2019; Sayer et al., 2020)\\n\\n5. digital twin is defined as a virtual representation of the real-world counterpart of an object, which (1) contains all its elements, (2) simulates accurately and realistically all relevant processes and process kinetics, and (3) is connected/linked to the real-world processes by sensor data input, preferably in real-time',\n",
       " 'clsuter5': \"1. Digital twin is a digital representation of a physical object or system that incorporates real-time data updates and simulations to reflect the physical reality accurately. It serves as a virtual counterpart to the physical object, allowing for analysis, simulation, and optimization of processes throughout the object's lifecycle. This definition highlights the integration of data, real-time updates, and the lifecycle perspective of digital twins.\\n\\n2. Digital twin is a virtual representation of a physical object, system, or process, created using data from sensors and other sources. It enables the real-time monitoring, control, and optimization of the physical counterpart by leveraging accurate modeling and simulation techniques. This definition emphasizes the data-driven nature of digital twins and their application in real-time monitoring and optimization.\\n\\n3. Digital twin is a digital representation of a physical object or process that allows for simulation, analysis, and improvement of the physical counterpart's performance by integrating sensor data and employing predictive modeling. It facilitates decision-making and innovation by providing insights into system behavior and potential improvements. This encapsulates the predictive modeling and decision support capabilities of digital twins.\\n\\n4. Digital twin is a comprehensive virtual model that replicates a physical object or system in the digital domain. It includes a bidirectional link with the physical world, allowing for real-time data exchange and updates. Through simulations and analytics, digital twins can predict future states, optimize operations, and aid in the design and innovation of products and systems. This definition underscores the bidirectional data flow and future-oriented capabilities of digital twins.\\n\\n5. Digital twin is a technology platform that combines the physical and digital worlds by creating a dynamic digital representation of a physical asset or system. This platform utilizes IoT, AI, machine learning, and analytics to continuously collect data, analyze performance, predict outcomes, and prescribe optimizations. It extends the concept to a system-wide approach incorporating advanced technologies for a more holistic view. This definition brings out the multifaceted technological ecosystem involved in digital twin implementations and their impact on asset management and optimization.\",\n",
       " 'clsuter6': '1. Digital Twin is a comprehensive digital equivalent of an object or an activity, reflecting the semantic and geometric properties and behaviors through virtual models and data.\\n\\n2. Digital twin is a virtual replication that mirrors the corresponding physical object, which can simulate the behavior of the physical counterpart and add or extend new functions to the physical counterpart through virtual-real interactive feedback, data fusion analysis, and iterative optimization for decision making.\\n\\n3. Digital Twin is a comprehensive physical and functional description of a component, product or system, which includes more or less all information which could be useful in all—the current and subsequent—lifecycle phases.\\n\\n4. Digital Twin is a comprehensive digital representation of an individual product and includes the properties, condition and behavior of the real-life object through models and data.” It comprises a set of realistic models, which are able to emulate the actual behavior.\\n\\n5. Digital twin is a digital replica of a physical entity with a two-way dynamic mapping between a physical object and its digital model [23], which has a structure of connected elements and meta-information.',\n",
       " 'clsuter7': '1. digital twin is a computer program that takes real-world data about a physical object or system as inputs and produces as outputs (predictions or simulations of how that physical object or system will be affected by those inputs).\\n\\n2. digital twin is a set of virtual information constructs that describes the physical product.\\n\\n3. Digital Twin is a digital object, the number of papers that also name hardware components seems surprisingly high.\\n\\n4. digital twin is a twin of Digital Asset the digital twin Continuous Bijective Relation for synchronization and twinning IoT for data collection and information sharing Data for synchronization, analysis, and input to machine learning Machine learning for analytics and prediction Security to prevent data leaks and information compromises Evaluation metrics/Testing to evaluate the performance of DT Table 4 Comparison of the conceptualisation components in the case study.\\n\\n5. Digital Twin is a paradigm that encompasses the complexity of data and information pertaining to a specific heritage asset, while ensuring data transparency, interoperability, and re-use towards the efficient coordination of multi-disciplinary research on the study, conservation, and preservation of works of art and heritage assets.',\n",
       " 'clsuter8': '1. digital twin is a virtual representation of an object or system that spans its lifecycle, is updated from real- time data, and uses simulation, ML and reasoning to help decision-making, (IBM (2020))\\n\\n2. digital Twin is a dynamic representation of a real-life object that mirrors its states and behaviour across its lifecycle and that can be used to monitor, analyze and simulate current and future states of and interventions on these objects, using data integration, artificial intelligence, and machine learning\\n\\n3. digital twin is a real-time virtual representation of any plan or object using technologies such as reasoning, simulation, complex decision-making, and machine learning, whereas IoT is a network connected to physical devices that run, process, and act on data\\n\\n4. digital twin is a multidisciplinary, multi-physics, multi- scale dynamic model that takes full advantage of the integration of physical models, operational data, and other information\\n\\n5. digital twin is a dynamic and digital representation of a physical system',\n",
       " 'clsuter9': \"1. Digital Twin is a digital replica of physical objects, a concept describing a collection of digital data representing a physical object, having its roots in engineering and the creation of engineering drawings/graphics. It is a digital equivalent of a real-life object of which it mirrors its behaviour and states over its lifetime in a virtual space, a virtual representation or prototype of a tangible object, a collection of objects, or a set of processes.\\n\\n2. Digital twin is defined as a comprehensive set of information constructs that fully describes a physical product, encompassing both micro atomic level to the macro geometrical level. It is a set of virtual information constructs that fully describes a potential or actual physical manufactured product from the micro (atomic level) to the macro (geometrical level), providing a detailed description at all scales.\\n\\n3. Digital twin is a digital clone of an object or person in the real world, commonly referred to as Real Twin (RT). It acts as a cyber-physical control device that uses object conceptualizations and is recognized as a digital counterpart of a physical object, embodying the concept of mirroring the physical object's behaviour and states throughout its lifetime in a virtual environment.\\n\\n4. Digital twin is a set of virtual information constructs that fully describes a potential or actual physical manufactured product from the micro atomic level to the macro geometrical level. This definition emphasizes the comprehensive nature of the digital twin, capturing both the microscopic and macroscopic details of the physical counterpart.\\n\\n5. Digital twin is a digital equivalent to a real-life object of which it mirrors its behaviour and states over its lifetime in a virtual space, making it a virtual representation of its physical counterpart. This definition underlines the importance of behavior and state mirroring over time, offering a comprehensive view of the digital twin as both a conceptual and practical technology.\"}"
      ]
     },
     "execution_count": 110,
     "metadata": {},
     "output_type": "execute_result"
    }
   ],
   "source": [
    "results"
   ]
  },
  {
   "cell_type": "code",
   "execution_count": 111,
   "metadata": {},
   "outputs": [
    {
     "name": "stdout",
     "output_type": "stream",
     "text": [
      "clsuter0\n",
      "clsuter1\n",
      "clsuter2\n",
      "clsuter3\n",
      "clsuter4\n",
      "clsuter5\n",
      "clsuter6\n",
      "clsuter7\n",
      "clsuter8\n",
      "clsuter9\n"
     ]
    }
   ],
   "source": [
    "second_round_of_definitions = \"\"\n",
    "for k , v in results.items():\n",
    "    print(k)\n",
    "    for i in v.split(\"\\n\"):\n",
    "        second_round_of_definitions+=i\n",
    "results_ = {k : v.replace(\"\\n\\n\", \"\\n\").split(\"\\n\") for k, v in results.items()}\n",
    "\n",
    "\n",
    "filtered_definitions = json.dumps(results_)\n",
    "with open(\"gpt4_filtered_definitions_5_per_cluster_3.json\", 'w') as f:\n",
    "    f.write(filtered_definitions)"
   ]
  },
  {
   "cell_type": "code",
   "execution_count": 101,
   "metadata": {},
   "outputs": [
    {
     "data": {
      "text/plain": [
       "'1. Digital Twin is defined as a software representation of a physical asset, system, or process designed to detect, prevent, predict, and optimize through real-time analytics to deliver business value.\\n2. Digital twin is defined as a “dynamic virtual representation of a physical object or system across its lifecycle, using real-time data to enable understanding, learning, and reasoning.”\\n3. Digital twin is a virtual representation that serves as the real-time digital counterpart of a physical object or process.\\n4. Digital twin is a multi-physical, multi-scale, and integrated probabilistic simulation of a complex product, using the best available physical models, sensor updates, etc., to reflect the life of its corresponding twin.\\n5. Digital Twin is a connected and synchronized digital replica of physical assets which represent both the elements and the dynamics of how systems and devices operate within their environment and live throughout their lifecycle.\\n6. Digital twin is a dynamic virtual model of a real-world physical system or process intended for real-time monitoring, decision support, and control.\\n7. Digital twin is a replica of a physical entity: through real-time transmission of data, a counterpart of the physical entity exists seamlessly in the virtual world and can be used for various value-adding applications.\\n8. Digital Twin is a comprehensive digital representation of an individual product and includes the properties, condition, and behavior of the real-life object through models and data. It comprises a set of realistic models, which are able to emulate the actual behavior.\\n9. Digital twin is described as a virtual replica of an asset or system that is updated from real-time condition monitoring data and employs simulation, machine learning, and reasoning to ensure informed decision-making.\\n10. Digital Twin is a dynamic representation of a real-life object that mirrors its states and behaviors across its lifecycle so it can be used to monitor, analyze, and simulate current and future states of, and interventions on, these objects, using data integration, artificial intelligence, and machine learning.'"
      ]
     },
     "execution_count": 101,
     "metadata": {},
     "output_type": "execute_result"
    }
   ],
   "source": [
    "most_cmoprehensive_def = getCategoriesFromAbstract(second_round_of_definitions, 10)\n",
    "most_cmoprehensive_def"
   ]
  },
  {
   "cell_type": "code",
   "execution_count": 102,
   "metadata": {},
   "outputs": [
    {
     "name": "stdout",
     "output_type": "stream",
     "text": [
      "1. Digital Twin is defined as a software representation of a physical asset, system, or process designed to detect, prevent, predict, and optimize through real-time analytics to deliver business value.\n",
      "2. Digital twin is defined as a “dynamic virtual representation of a physical object or system across its lifecycle, using real-time data to enable understanding, learning, and reasoning.”\n",
      "3. Digital twin is a virtual representation that serves as the real-time digital counterpart of a physical object or process.\n",
      "4. Digital twin is a multi-physical, multi-scale, and integrated probabilistic simulation of a complex product, using the best available physical models, sensor updates, etc., to reflect the life of its corresponding twin.\n",
      "5. Digital Twin is a connected and synchronized digital replica of physical assets which represent both the elements and the dynamics of how systems and devices operate within their environment and live throughout their lifecycle.\n",
      "6. Digital twin is a dynamic virtual model of a real-world physical system or process intended for real-time monitoring, decision support, and control.\n",
      "7. Digital twin is a replica of a physical entity: through real-time transmission of data, a counterpart of the physical entity exists seamlessly in the virtual world and can be used for various value-adding applications.\n",
      "8. Digital Twin is a comprehensive digital representation of an individual product and includes the properties, condition, and behavior of the real-life object through models and data. It comprises a set of realistic models, which are able to emulate the actual behavior.\n",
      "9. Digital twin is described as a virtual replica of an asset or system that is updated from real-time condition monitoring data and employs simulation, machine learning, and reasoning to ensure informed decision-making.\n",
      "10. Digital Twin is a dynamic representation of a real-life object that mirrors its states and behaviors across its lifecycle so it can be used to monitor, analyze, and simulate current and future states of, and interventions on, these objects, using data integration, artificial intelligence, and machine learning.\n"
     ]
    }
   ],
   "source": [
    "for i in most_cmoprehensive_def.split(\"\\n\\n\"):\n",
    "    print(i)"
   ]
  },
  {
   "cell_type": "code",
   "execution_count": null,
   "metadata": {},
   "outputs": [],
   "source": []
  },
  {
   "cell_type": "code",
   "execution_count": null,
   "metadata": {},
   "outputs": [],
   "source": []
  },
  {
   "cell_type": "code",
   "execution_count": null,
   "metadata": {},
   "outputs": [],
   "source": []
  },
  {
   "cell_type": "code",
   "execution_count": null,
   "metadata": {},
   "outputs": [],
   "source": []
  }
 ],
 "metadata": {
  "kernelspec": {
   "display_name": ".venv",
   "language": "python",
   "name": "python3"
  },
  "language_info": {
   "codemirror_mode": {
    "name": "ipython",
    "version": 3
   },
   "file_extension": ".py",
   "mimetype": "text/x-python",
   "name": "python",
   "nbconvert_exporter": "python",
   "pygments_lexer": "ipython3",
   "version": "3.11.6"
  }
 },
 "nbformat": 4,
 "nbformat_minor": 2
}
