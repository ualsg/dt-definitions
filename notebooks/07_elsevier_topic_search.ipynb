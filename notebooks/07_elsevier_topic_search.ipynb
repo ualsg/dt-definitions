{
 "cells": [
  {
   "cell_type": "markdown",
   "metadata": {},
   "source": [
    "### Documentation here https://dev.elsevier.com/documentation/ArticleRetrievalAPI.wadl"
   ]
  },
  {
   "cell_type": "code",
   "execution_count": null,
   "metadata": {},
   "outputs": [],
   "source": [
    "# https://api.elsevier.com/content/article/doi/{doi}"
   ]
  },
  {
   "cell_type": "code",
   "execution_count": 2,
   "metadata": {},
   "outputs": [],
   "source": [
    "import pandas as pd\n",
    "import requests\n",
    "import os\n",
    "import xmltodict\n",
    "import json\n",
    "from credentials import keys"
   ]
  },
  {
   "cell_type": "code",
   "execution_count": null,
   "metadata": {},
   "outputs": [],
   "source": []
  },
  {
   "cell_type": "code",
   "execution_count": 6,
   "metadata": {},
   "outputs": [],
   "source": [
    "#read the dataset\n",
    "df = pd.read_csv(\"../csv/02_papers_with_abstracts_removed_duplicates_not_filtered_yet.csv\")\n"
   ]
  },
  {
   "cell_type": "code",
   "execution_count": 4,
   "metadata": {},
   "outputs": [],
   "source": [
    "# This function downloads the full text from the doi number and save it in a folder called \"full_texts\" as a json object\n",
    "\n",
    "def downloadFullText(doi, id):\n",
    "  try:\n",
    "    # Split the DOI into segments\n",
    "    doi_segments = doi.split(\"/\")\n",
    "\n",
    "    # Create the full folder path, including subfolders\n",
    "    folder_path = os.path.join(\"./full_texts\", *doi_segments)\n",
    "\n",
    "    # Create the folders if they don't exist\n",
    "    os.makedirs(folder_path, exist_ok=True)\n",
    "\n",
    "    # Send the request to the Elsevier API\n",
    "    response = requests.get(f\"https://api.elsevier.com/content/article/doi/{doi}\", headers={\n",
    "      \"X-ELS-APIKey\": keys[\"els-apikey\"],  #save the keys in a new python file called credentials.py that has a dict variable called  keys  = {\"key\": \"value\"}\n",
    "        \"X-ELS-Insttoken\": keys[\"els-inst-token\"],\n",
    "        \"Accept\" : \"application/json\"\n",
    "    })\n",
    "\n",
    "    # Check the status code of the response\n",
    "    if response.status_code == 200:\n",
    "      json_data = response.json()\n",
    "      file_name = doi.replace(\"/\", \"_\")\n",
    "      file_path = os.path.join(folder_path, f\"{file_name}.json\")  # Use .json extension\n",
    "      with open(file_path, 'w') as f:\n",
    "        f.write(json.dumps(json_data, indent=4))  # Indent for readability\n",
    "\n",
    "    else:\n",
    "      # If the request was not successful, print an error message\n",
    "      print(f\"Error retrieving article: {response.text}\")\n",
    "  except Exception as e:\n",
    "    print(id, str(e))"
   ]
  },
  {
   "cell_type": "code",
   "execution_count": 6,
   "metadata": {},
   "outputs": [],
   "source": [
    "# This function downloads the full text from the doi number and save it in a folder called \"full_texts\" as a json object\n",
    "\n",
    "def topicSearch(topicId, id):\n",
    "  try:\n",
    "    # Split the DOI into segments\n",
    "    doi_segments = f\"{topicId}/{id}\"\n",
    "\n",
    "    # Create the full folder path, including subfolders\n",
    "    folder_path = os.path.join(\"./topic_full_texts\", *doi_segments)\n",
    "\n",
    "    # Create the folders if they don't exist\n",
    "    os.makedirs(folder_path, exist_ok=True)\n",
    "\n",
    "    # Send the request to the Elsevier API\n",
    "    response = requests.get(f\"https://api.elsevier.com/analytics/scival/topic/{topicId}\", headers={\n",
    "      \"X-ELS-APIKey\": keys[\"els-apikey\"],  #save the keys in a new python file called credentials.py that has a dict variable called  keys  = {\"key\": \"value\"}\n",
    "        \"X-ELS-Insttoken\": keys[\"els-inst-token\"],\n",
    "        \"Accept\" : \"application/json\"\n",
    "    })\n",
    "\n",
    "    # Check the status code of the response\n",
    "    if response.status_code == 200:\n",
    "      json_data = response.json()\n",
    "      file_name = doi_segments.replace(\"/\", \"_\")\n",
    "      file_path = os.path.join(folder_path, f\"{file_name}.json\")  # Use .json extension\n",
    "      with open(file_path, 'w') as f:\n",
    "        f.write(json.dumps(json_data, indent=4))  # Indent for readability\n",
    "\n",
    "    else:\n",
    "      # If the request was not successful, print an error message\n",
    "      print(f\"Error retrieving article: {response.text}\")\n",
    "  except Exception as e:\n",
    "    print(id, str(e))"
   ]
  },
  {
   "cell_type": "code",
   "execution_count": 7,
   "metadata": {},
   "outputs": [
    {
     "name": "stdout",
     "output_type": "stream",
     "text": [
      "0 [Errno 30] Read-only file system: '/0'\n",
      "1 [Errno 30] Read-only file system: '/1'\n"
     ]
    }
   ],
   "source": [
    "for i in range(2):\n",
    "    print(str(i), end=\"\\r\")\n",
    "    with open(\"last_rec\", 'w') as f:\n",
    "        f.write(str(i))\n",
    "    topicSearch(\"digital-twin\", i)"
   ]
  },
  {
   "cell_type": "code",
   "execution_count": 7,
   "metadata": {},
   "outputs": [
    {
     "name": "stdout",
     "output_type": "stream",
     "text": [
      "0/15353\r"
     ]
    }
   ],
   "source": [
    "for i in range(2):\n",
    "    print(str(i)+ \"/\" + str(len(df)), end=\"\\r\")\n",
    "    with open(\"last_rec\", 'w') as f:\n",
    "        f.write(str(i))\n",
    "    doi = df.loc[i][\"dc:identifier\"].replace(\"DOI:\", \"\")\n",
    "    downloadFullText(doi, i)"
   ]
  },
  {
   "cell_type": "code",
   "execution_count": 8,
   "metadata": {},
   "outputs": [
    {
     "name": "stdout",
     "output_type": "stream",
     "text": [
      "0/15353\r"
     ]
    }
   ],
   "source": [
    "for i in range(1):\n",
    "    try:\n",
    "        print(str(i)+ \"/\" + str(len(df)), end=\"\\r\")\n",
    "        with open(\"last_rec\", 'w') as f:\n",
    "            f.write(str(i))\n",
    "        doi = str(df.loc[i][\"dc:identifier\"]).replace(\"DOI:\", \"\")\n",
    "        downloadFullText(doi, i)\n",
    "    except:\n",
    "        print(i, )\n",
    "        pass"
   ]
  },
  {
   "cell_type": "markdown",
   "metadata": {},
   "source": []
  }
 ],
 "metadata": {
  "kernelspec": {
   "display_name": "adaptive_sampling",
   "language": "python",
   "name": "python3"
  },
  "language_info": {
   "codemirror_mode": {
    "name": "ipython",
    "version": 3
   },
   "file_extension": ".py",
   "mimetype": "text/x-python",
   "name": "python",
   "nbconvert_exporter": "python",
   "pygments_lexer": "ipython3",
   "version": "3.11.6"
  }
 },
 "nbformat": 4,
 "nbformat_minor": 2
}
