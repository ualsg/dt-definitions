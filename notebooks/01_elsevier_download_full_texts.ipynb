{
 "cells": [
  {
   "cell_type": "markdown",
   "metadata": {},
   "source": [
    "### Documentation here https://dev.elsevier.com/documentation/ArticleRetrievalAPI.wadl"
   ]
  },
  {
   "cell_type": "code",
   "execution_count": null,
   "metadata": {},
   "outputs": [],
   "source": [
    "# https://api.elsevier.com/content/article/doi/{doi}"
   ]
  },
  {
   "cell_type": "code",
   "execution_count": null,
   "metadata": {},
   "outputs": [],
   "source": []
  },
  {
   "cell_type": "code",
   "execution_count": null,
   "metadata": {},
   "outputs": [],
   "source": [
    "import pandas as pd\n",
    "import requests\n",
    "import os\n",
    "import xmltodict\n",
    "import json"
   ]
  },
  {
   "cell_type": "code",
   "execution_count": 28,
   "metadata": {},
   "outputs": [],
   "source": [
    "#read the dataset\n",
    "df = pd.read_csv(\"./02_papers_with_abstracts_removed_duplicates_not_filtered_yet.csv\")\n"
   ]
  },
  {
   "cell_type": "code",
   "execution_count": 33,
   "metadata": {},
   "outputs": [],
   "source": [
    "def downloadFullText(doi, id):\n",
    "  try:\n",
    "    # Split the DOI into segments\n",
    "    doi_segments = doi.split(\"/\")\n",
    "\n",
    "    # Create the full folder path, including subfolders\n",
    "    folder_path = os.path.join(\"./full_texts\", *doi_segments)\n",
    "\n",
    "    # Create the folders if they don't exist\n",
    "    os.makedirs(folder_path, exist_ok=True)\n",
    "\n",
    "    # Send the request to the Elsevier API\n",
    "    response = requests.get(f\"https://api.elsevier.com/content/article/doi/{doi}\", headers={\n",
    "      \"X-ELS-APIKey\": \"f4af734d56a079da010b05f250d7c3b5\",\n",
    "        \"X-ELS-Insttoken\": \"7dfb8b168bd5cae0e742f06bfd23fe97\",\n",
    "        \"Accept\" : \"application/json\"\n",
    "    })\n",
    "\n",
    "    # Check the status code of the response\n",
    "    if response.status_code == 200:\n",
    "      json_data = response.json()\n",
    "      file_name = doi.replace(\"/\", \"_\")\n",
    "      file_path = os.path.join(folder_path, f\"{file_name}.json\")  # Use .json extension\n",
    "      with open(file_path, 'w') as f:\n",
    "        f.write(json.dumps(json_data, indent=4))  # Indent for readability\n",
    "\n",
    "    else:\n",
    "      # If the request was not successful, print an error message\n",
    "      print(f\"Error retrieving article: {response.text}\")\n",
    "  except Exception as e:\n",
    "    print(id, str(e))"
   ]
  },
  {
   "cell_type": "code",
   "execution_count": 35,
   "metadata": {},
   "outputs": [
    {
     "name": "stdout",
     "output_type": "stream",
     "text": [
      "499/15353\r"
     ]
    }
   ],
   "source": [
    "for i in range(500, len(df)):\n",
    "    print(str(i)+ \"/\" + str(len(df)), end=\"\\r\")\n",
    "    with open(\"last_rec\", 'w') as f:\n",
    "        f.write(str(i))\n",
    "    doi = df.loc[i][\"dc:identifier\"].replace(\"DOI:\", \"\")\n",
    "    downloadFullText(doi, i)"
   ]
  },
  {
   "cell_type": "code",
   "execution_count": 39,
   "metadata": {},
   "outputs": [
    {
     "name": "stdout",
     "output_type": "stream",
     "text": [
      "15352/15353\r"
     ]
    }
   ],
   "source": [
    "for i in range(4802, len(df)):\n",
    "    try:\n",
    "        print(str(i)+ \"/\" + str(len(df)), end=\"\\r\")\n",
    "        with open(\"last_rec\", 'w') as f:\n",
    "            f.write(str(i))\n",
    "        doi = str(df.loc[i][\"dc:identifier\"]).replace(\"DOI:\", \"\")\n",
    "        downloadFullText(doi, i)\n",
    "    except:\n",
    "        print(i, )\n",
    "        pass"
   ]
  },
  {
   "cell_type": "markdown",
   "metadata": {},
   "source": []
  }
 ],
 "metadata": {
  "kernelspec": {
   "display_name": "adaptive_sampling",
   "language": "python",
   "name": "python3"
  },
  "language_info": {
   "codemirror_mode": {
    "name": "ipython",
    "version": 3
   },
   "file_extension": ".py",
   "mimetype": "text/x-python",
   "name": "python",
   "nbconvert_exporter": "python",
   "pygments_lexer": "ipython3",
   "version": "3.8.0"
  }
 },
 "nbformat": 4,
 "nbformat_minor": 2
}
